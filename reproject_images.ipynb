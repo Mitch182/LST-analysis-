{
 "cells": [
  {
   "cell_type": "code",
   "execution_count": 67,
   "metadata": {},
   "outputs": [],
   "source": [
    "import cv2 \n",
    "import numpy as np \n"
   ]
  },
  {
   "cell_type": "code",
   "execution_count": 69,
   "metadata": {},
   "outputs": [
    {
     "name": "stdout",
     "output_type": "stream",
     "text": [
      "1000 2000\n"
     ]
    },
    {
     "data": {
      "text/plain": [
       "True"
      ]
     },
     "execution_count": 69,
     "metadata": {},
     "output_type": "execute_result"
    }
   ],
   "source": [
    "\n",
    "\n",
    "def equirectangular_to_fisheye(image):\n",
    "    height, width = image.shape[:2]\n",
    "    print(height, width)\n",
    "    # Determine the otput dimensions of the fisheye image\n",
    "    output_dim = width\n",
    " \n",
    "    \n",
    "    # Calculate the center coordinates\n",
    "    center_x = width / (2*np.pi)\n",
    "    center_y = width / (2*np.pi)\n",
    "\n",
    "    # Calculate the radius of the fisheye image\n",
    "    radius = output_dim / (2*np.pi)\n",
    "\n",
    "    # Generate the mapping coordinates\n",
    "    map_x = np.zeros((output_dim, output_dim), dtype=np.float32)\n",
    "    map_y = np.zeros((output_dim, output_dim), dtype=np.float32)\n",
    "\n",
    "    for y in range(output_dim):\n",
    "        for x in range(output_dim):\n",
    "\n",
    "        \n",
    "            # Convert the coordinates to polar coordinates\n",
    "            if x < center_x: \n",
    "                theta = 3 * np.pi / 2 - np.arctan((y - center_y) / (x- center_x))\n",
    "           \n",
    "            else: \n",
    "                theta = np.pi / 2 - np.arctan((y - center_y) / (x - center_x))\n",
    "        \n",
    "            rho = np.hypot(x - center_x, y - center_y)\n",
    "\n",
    "            # Calculate the corresponding coordinates in the input image\n",
    "            src_x = int((theta / (2 * np.pi)) * width) \n",
    "            src_y = int((rho / radius) * height)\n",
    "\n",
    "            # Assign the mapping coordinates\n",
    "            map_x[y, x] = src_x\n",
    "            map_y[y, x] = src_y\n",
    "\n",
    "    # Apply the remapping to the input image\n",
    "    fisheye_image = cv2.remap(image, map_x, map_y, cv2.INTER_LINEAR)\n",
    "\n",
    "    return fisheye_image\n",
    "\n",
    "\n",
    "\n",
    "\n",
    "input_image = cv2.imread('data/test/57.jpg')\n",
    "\n",
    "\n",
    "\n",
    "\n",
    "output_image = equirectangular_to_fisheye(input_image)\n",
    "\n",
    "# Save the output image\n",
    "cv2.imwrite('data/test/test.jpg', output_image)"
   ]
  }
 ],
 "metadata": {
  "kernelspec": {
   "display_name": "Python 3",
   "language": "python",
   "name": "python3"
  },
  "language_info": {
   "codemirror_mode": {
    "name": "ipython",
    "version": 3
   },
   "file_extension": ".py",
   "mimetype": "text/x-python",
   "name": "python",
   "nbconvert_exporter": "python",
   "pygments_lexer": "ipython3",
   "version": "3.8.10"
  },
  "orig_nbformat": 4
 },
 "nbformat": 4,
 "nbformat_minor": 2
}
